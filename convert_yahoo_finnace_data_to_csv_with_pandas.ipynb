{
 "cells": [
  {
   "cell_type": "code",
   "execution_count": 12,
   "metadata": {},
   "outputs": [
    {
     "name": "stdout",
     "output_type": "stream",
     "text": [
      "                 Open   High        Low      Close  Adj Close    Volume\n",
      "Date                                                                   \n",
      "2010-06-29  19.000000  25.00  17.540001  23.889999  23.889999  18766300\n",
      "2010-06-30  25.790001  30.42  23.299999  23.830000  23.830000  17187100\n",
      "2010-07-01  25.000000  25.92  20.270000  21.959999  21.959999   8218800\n",
      "2010-07-02  23.000000  23.10  18.709999  19.200001  19.200001   5139800\n",
      "2010-07-06  20.000000  20.00  15.830000  16.110001  16.110001   6866900\n"
     ]
    }
   ],
   "source": [
    "import datetime as dt\n",
    "import matplotlib.pyplot as plt\n",
    "from matplotlib import style\n",
    "import pandas as pd\n",
    "import pandas_datareader.data as web \n",
    "\n",
    "style.use('ggplot')\n",
    "start=dt.datetime(2001,1,1)\n",
    "end=dt.datetime(2017,11,11)\n",
    "\n",
    "df= web.DataReader('TSLA','yahoo',start,end)\n",
    "df.to_csv('tsla')\n",
    "print(df.head())\n"
   ]
  },
  {
   "cell_type": "code",
   "execution_count": null,
   "metadata": {
    "collapsed": true
   },
   "outputs": [],
   "source": []
  }
 ],
 "metadata": {
  "kernelspec": {
   "display_name": "Python [conda env:avinpy35]",
   "language": "python",
   "name": "conda-env-avinpy35-py"
  },
  "language_info": {
   "codemirror_mode": {
    "name": "ipython",
    "version": 3
   },
   "file_extension": ".py",
   "mimetype": "text/x-python",
   "name": "python",
   "nbconvert_exporter": "python",
   "pygments_lexer": "ipython3",
   "version": "3.5.4"
  }
 },
 "nbformat": 4,
 "nbformat_minor": 2
}
